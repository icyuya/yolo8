{
  "nbformat": 4,
  "nbformat_minor": 0,
  "metadata": {
    "colab": {
      "provenance": []
    },
    "kernelspec": {
      "name": "python3",
      "display_name": "Python 3"
    },
    "language_info": {
      "name": "python"
    }
  },
  "cells": [
    {
      "cell_type": "code",
      "execution_count": null,
      "metadata": {
        "id": "PrXOs1-kYQFC"
      },
      "outputs": [],
      "source": [
        "#作業ディレクトリを取得し、HOMEに格納\n",
        "import os\n",
        "HOME = os.getcwd()\n",
        "print(HOME)"
      ]
    },
    {
      "cell_type": "code",
      "source": [
        "#Ultralytics YOLOv8 をインストールし、インストールが成功したか確認\n",
        "!pip install ultralytics == 8.0.196\n",
        "\n",
        "from IPython import display\n",
        "display.clear_output()\n",
        "\n",
        "import ultralytics\n",
        "ultralytics.checks()"
      ],
      "metadata": {
        "id": "PBclfZAPYYGN"
      },
      "execution_count": null,
      "outputs": []
    },
    {
      "cell_type": "code",
      "source": [
        "#必要なモジュールをインポート\n",
        "from ultralytics import YOLO\n",
        "\n",
        "from IPython.display import display, Image"
      ],
      "metadata": {
        "id": "eB-aiQerYa5y"
      },
      "execution_count": null,
      "outputs": []
    },
    {
      "cell_type": "code",
      "source": [
        "#roboflowから魚のデータをダウンロード\n",
        "from roboflow import Roboflow\n",
        "rf = Roboflow(api_key=\"jSLqWbf9yKIHEIR7GrtN\")\n",
        "project = rf.workspace(\"kota-h6pkq\").project(\"fish-pgpgz\")\n",
        "version = project.version(1)\n",
        "dataset = version.download(\"yolov8\")"
      ],
      "metadata": {
        "id": "BtGrKPdYYcuW"
      },
      "execution_count": null,
      "outputs": []
    },
    {
      "cell_type": "code",
      "source": [
        "#ダウンロードしたデータセットの保存先パスを確認\n",
        "dataset.location"
      ],
      "metadata": {
        "id": "26qmpMTlYk-M"
      },
      "execution_count": null,
      "outputs": []
    },
    {
      "cell_type": "code",
      "source": [
        "#データセットをYOLOv8s-segモデルでトレーニングし、resultsに結果を格納\n",
        "model = YOLO('yolov8s-seg.pt')\n",
        "results = model.train(data=\"/home/nakahira/workspace/Nishida/fish/seavis1003/fish-1/data.yaml\", batch=4, epochs=300, imgsz=640)"
      ],
      "metadata": {
        "id": "QMINNzcQYmBL"
      },
      "execution_count": null,
      "outputs": []
    },
    {
      "cell_type": "code",
      "source": [
        "#トレーニング結果の画像を表示\n",
        "Image(filename=f'/home/nakahira/workspace/Nishida/fish/seavis1003/runs/segment/train/results.png', width=600)"
      ],
      "metadata": {
        "id": "TZtUSAfbYn-A"
      },
      "execution_count": null,
      "outputs": []
    },
    {
      "cell_type": "code",
      "source": [
        "#fish count(Video)\n",
        "\n",
        "#必要なライブラリをインポート\n",
        "import cv2\n",
        "import numpy as np\n",
        "\n",
        "#YOLOモデルのファイルのパスを指定し、そのモデルを読み込む\n",
        "model_file = '/home/nakahira/workspace/Nishida/fish/seavis1003/runs/segment/train/weights/best.pt'\n",
        "model = YOLO(model_file)\n",
        "\n",
        "#モデルのクラス名を取得\n",
        "class_names = model.names\n",
        "\n",
        "#クラスごとの色を指定\n",
        "colors = [(255,0,0), (0,255,0),(0,0,255)]\n",
        "\n",
        "#処理するビデオファイルのパスを指定し、そのビデオを読み込む\n",
        "video_path = '/home/nakahira/workspace/nakahira/seavis/OnnaDataset/GH012962.MP4'\n",
        "cap = cv2.VideoCapture(video_path)\n",
        "\n",
        "#出力ビデオの設定を行い、保存先とフォーマットを指定\n",
        "fourcc = cv2.VideoWriter_fourcc(*'mp4v')\n",
        "out = cv2.VideoWriter('/home/nakahira/workspace/Nishida/fish/seavis1003/runs/segment/predict/output_video8.mp4', fourcc, 30.0, (int(cap.get(3)),int(cap.get(4))))\n",
        "\n",
        "#フレームごとの魚のカウントを保持するリストを初期化\n",
        "frame_fish_counts = []\n",
        "\n",
        "#ビデオが開いている間、フレームを読み込む\n",
        "while cap.isOpened():\n",
        "    ret, frame = cap.read()\n",
        "    if not ret : #フレームが読み込めない場合はループを終了\n",
        "        break\n",
        "\n",
        "    #フレームに対してYOLOモデルを適用し、結果を取得\n",
        "    results = model(frame)\n",
        "\n",
        "    #魚のカウントとクラスごとのカウントを初期化\n",
        "    fish_count = 0\n",
        "    class_counts = {}\n",
        "\n",
        "    #各検出結果に対してループを開始\n",
        "    for result in results:\n",
        "        for detection in result.boxes:\n",
        "            class_id = int(detection.cls.item())\n",
        "            x1,y1,x2,y2 = map(int, detection.xyxy[0])\n",
        "            confidence = detection.conf[0]\n",
        "            label = class_names[class_id]\n",
        "\n",
        "            #正誤認識が0.3以上の場合、魚のカウントを1増やし、クラス名を取得\n",
        "            if confidence > 0.3:\n",
        "                fish_count += 1\n",
        "                class_name = class_names[int(class_id)]\n",
        "\n",
        "                #クラス名が存在しない場合、0に初期化\n",
        "                if class_name not in class_counts:\n",
        "                    class_counts[class_name] = 0\n",
        "\n",
        "                #検出された魚の周りに矩形を描画し、ラベルを表示\n",
        "                class_counts[class_name] += 1\n",
        "                color = colors[int(class_id) % len(colors)]\n",
        "                cv2.rectangle(frame, (int(x1), int(y1)),(int(x2), int(y2)), color, 2)\n",
        "                label = f'{class_names[int(class_id)]}:{confidence:.2f}'\n",
        "                cv2.putText(frame, label,(int(x1),int(y1) - 10),cv2.FONT_HERSHEY_SIMPLEX, 0.5, color, 2)\n",
        "\n",
        "    #各クラスのカウントをフレームに表示\n",
        "    y_offset = 30\n",
        "    for class_name, count in class_counts.items():\n",
        "        cv2.putText(frame, f'{class_name}:{count}', (10, y_offset), cv2.FONT_HERSHEY_SIMPLEX, 1, (255, 255, 255), 2)\n",
        "        y_offset += 30\n",
        "\n",
        "    #フレームごとの魚のカウントをリストに追加し、出力ビデオにフレームを書き込む\n",
        "    frame_fish_counts.append(class_counts)\n",
        "    out.write(frame)\n",
        "\n",
        "cap.release()\n",
        "out.release()\n",
        "cv2.destroyAllWindows()\n",
        "\n",
        "#フレームごとの魚のカウントをファイルに保存\n",
        "np.save('frame_fish_counts.npy', frame_fish_counts)"
      ],
      "metadata": {
        "id": "Yny2ABq5Yp0C"
      },
      "execution_count": null,
      "outputs": []
    },
    {
      "cell_type": "code",
      "source": [
        "#必要なライブラリをインポート\n",
        "import numpy as np\n",
        "import matplotlib.pyplot as plt\n",
        "\n",
        "#保存された魚のカウントデータをファイルから読み込む\n",
        "frame_counts = np.load('frame_fish_counts.npy', allow_pickle = True)\n",
        "\n",
        "#図のサイズを設定\n",
        "plt.figure(figsize = (10, 5))\n",
        "\n",
        "#クラスごとの色を指定\n",
        "colors = ['b','g','r','c','m','y','k']\n",
        "\n",
        "#すべてのフレームのクラス名を集めて1つのセットにする\n",
        "all_class_names = set()\n",
        "for frame in frame_counts:\n",
        "    all_class_names.update(frame.keys())\n",
        "\n",
        "#クラスの数に応じてサブプロットを作成\n",
        "num_classes = len(all_class_names)\n",
        "fig, axes = plt.subplots(num_classes, 1, figsize = (10, 5 * num_classes))\n",
        "\n",
        "#各クラスに対してループを開始し、フレームごとの魚のカウントをプロット\n",
        "for i, (class_name, color) in enumerate (zip(all_class_names, colors)):\n",
        "    counts = [frame.get(class_name, 0) for frame in frame_counts]\n",
        "    axes[i].plot(counts, label = class_name, color = color)\n",
        "\n",
        "    #x軸とy軸のラベルを設定\n",
        "    axes[i].set_xlabel('Frame_Number')\n",
        "    axes[i].set_ylabel('Fish_Count')\n",
        "\n",
        "    #グラフのタイトルを設定\n",
        "    axes[i].set_title(f'Fish Count per Frame:{class_name}')\n",
        "    axes[i].legend()\n",
        "\n",
        "plt.tight_layout()\n",
        "plt.grid(True)\n",
        "\n",
        "#グラフを指定したパスに保存\n",
        "plt.savefig('/home/nakahira/workspace/Nishida/fish/seavis1003/runs/segment/plot_graph/output_graph_Fish.png')"
      ],
      "metadata": {
        "id": "IptrInupYsoW"
      },
      "execution_count": null,
      "outputs": []
    }
  ]
}